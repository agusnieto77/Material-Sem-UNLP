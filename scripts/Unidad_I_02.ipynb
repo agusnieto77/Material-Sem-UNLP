{
  "nbformat": 4,
  "nbformat_minor": 0,
  "metadata": {
    "colab": {
      "name": "Unidad_I_02.ipynb",
      "private_outputs": true,
      "provenance": []
    },
    "kernelspec": {
      "name": "ir",
      "display_name": "R"
    },
    "language_info": {
      "name": "R"
    },
    "gpuClass": "standard"
  },
  "cells": [
    {
      "cell_type": "markdown",
      "source": [
        "# Datos en línea para la investigación: conectar, bajar, clasificar, visualizar\n",
        "\n",
        "## Ordenar y Clasificar (Parte I)\n",
        "\n",
        "### Ordenar y reordenar datos con dplyr y tidyr\n",
        "\n",
        "**dplyr** es una gramática de manipulación de datos que proporciona un conjunto consistente de verbos que lo ayudan a resolver los desafíos más comunes de manipulación de datos:\n",
        "\n",
        "      -> mutate() agrega nuevas variables que son funciones de variables existentes\n",
        "\n",
        "      -> select() elige variables en función de sus nombres.\n",
        "\n",
        "      -> filter() elige casos en función de sus valores.\n",
        "\n",
        "      -> summarise() reduce varios valores a un solo resumen.\n",
        "\n",
        "      -> arrange() cambia el orden de las filas.\n",
        "\n",
        "El objetivo de tidyr es crear datos ordenados. Los datos ordenados son datos donde:\n",
        "\n",
        "      -> Cada columna es variable.\n",
        "\n",
        "      -> Cada fila es una observación.\n",
        "\n",
        "      -> Cada celda es un valor único.\n",
        "\n",
        "### Trabajar con dplyr\n",
        "\n",
        "##### Bajamos y cargamos los datos con funciones las funciones 'download.file' y 'read.table' del paquete 'utils', paquete base de r"
      ],
      "metadata": {
        "id": "2YRYyEHxLXMA"
      }
    },
    {
      "cell_type": "code",
      "execution_count": null,
      "metadata": {
        "id": "Fg9g5qWHLSy-"
      },
      "outputs": [],
      "source": [
        "# Los paquetes que vamos a usar en este fragmento de código no requieren ser cargados.\n",
        "\n",
        "# Descarga del registro de femicidio de datos.jus.gob.ar\n",
        "\n",
        "# creamos el objeto 'url' con la ubicación del archivo que queremos bajar\n",
        "\n",
        "url <- \"http://datos.jus.gob.ar/dataset/27bb9b2c-521b-406c-bdf9-98110ef73f34/resource/583cec9a-3022-4234-8b32-17692a267aac/download/registro-de-femicidios-20200109.csv\"\n",
        "\n",
        "url"
      ]
    },
    {
      "cell_type": "code",
      "source": [
        "\n",
        "# creamos el objeto 'file' para definir el lugar donde guardar el documento a bajar, con funciones base de r\n",
        "\n",
        "file <- \n",
        "  base::file.path(\n",
        "    \".\", \n",
        "    base::basename(\n",
        "      url))\n",
        "\n",
        "file"
      ],
      "metadata": {
        "id": "HRPNWNe-Mupn"
      },
      "execution_count": null,
      "outputs": []
    },
    {
      "cell_type": "code",
      "source": [
        "# bajamos el documento que nos interesa\n",
        "\n",
        "utils::download.file(\n",
        "  url, \n",
        "  file)"
      ],
      "metadata": {
        "id": "giaa4rAJM7GX"
      },
      "execution_count": null,
      "outputs": []
    },
    {
      "cell_type": "code",
      "source": [
        "# cargamos el documento en el objeto 'femicidios'\n",
        "\n",
        "femicidios <- \n",
        "    read.table(file, \n",
        "               header = TRUE, \n",
        "               sep = ',', \n",
        "               stringsAsFactors = FALSE,\n",
        "               encoding = \"UTF-8\")\n",
        "\n",
        "femicidios |> head()"
      ],
      "metadata": {
        "id": "w-ufc680NCYf"
      },
      "execution_count": null,
      "outputs": []
    },
    {
      "cell_type": "markdown",
      "source": [
        "### Estructuras con dplyr\n",
        "\n",
        "##### Inspeccionamos la estructura de los datos con la función 'glimpse' de 'dplyr'"
      ],
      "metadata": {
        "id": "lB6DajLXOW6Q"
      }
    },
    {
      "cell_type": "code",
      "source": [
        "# Cargamos dplyr\n",
        "\n",
        "require(dplyr)"
      ],
      "metadata": {
        "id": "b6SNgfmuO15n"
      },
      "execution_count": null,
      "outputs": []
    },
    {
      "cell_type": "code",
      "source": [
        "# Vemos los datos a partir de 'glimpse' es como una versión transpuesta de print(): las columnas corren por la página y los datos se cruzan\n",
        "\n",
        "glimpse(femicidios)"
      ],
      "metadata": {
        "id": "VeKUmP4LPYc3"
      },
      "execution_count": null,
      "outputs": []
    },
    {
      "cell_type": "markdown",
      "source": [
        "### Tabla de frecuencias con dplyr\n",
        "\n",
        "##### Con la función 'count' del paquete 'dplyr' creamos una tabla con la frecuencia de femicidios por provincia"
      ],
      "metadata": {
        "id": "UsT7wt3JPlQ2"
      }
    },
    {
      "cell_type": "code",
      "source": [
        "# creamos una tabla con los datos de la columna 'hecho_provincia' con la función count de dplyr\n",
        "\n",
        "tablafemicidios <- femicidios %>% count(hecho_provincia)\n",
        "\n",
        "tablafemicidios"
      ],
      "metadata": {
        "id": "d5DB77UaPoFv"
      },
      "execution_count": null,
      "outputs": []
    },
    {
      "cell_type": "markdown",
      "source": [
        "### Renombrar con dplyr\n",
        "\n",
        "##### Renombramos valores de la tabla con la función 'mutate' de 'dplyr'"
      ],
      "metadata": {
        "id": "ciI7U8T5QbeA"
      }
    },
    {
      "cell_type": "code",
      "source": [
        "tablafemicidios <- tablafemicidios |> mutate(\n",
        "    hecho_provincia = case_when(\n",
        "        hecho_provincia == \"Ciudad Autónoma de Bs.As.\" ~ \"CABA\",\n",
        "        hecho_provincia == \"\" ~ \"s-d\",\n",
        "        TRUE ~ as.character(hecho_provincia)))\n",
        "\n",
        "tablafemicidios"
      ],
      "metadata": {
        "id": "cVvTqajFQdvx"
      },
      "execution_count": null,
      "outputs": []
    },
    {
      "cell_type": "markdown",
      "source": [
        "### Frecuencias con dplyr\n",
        "\n",
        "##### Ahora ordenamos la frecuencia con la funcion arrange del paquete dplyr"
      ],
      "metadata": {
        "id": "9CvFb-MHRqzx"
      }
    },
    {
      "cell_type": "code",
      "source": [
        "tablafemicidios <- tablafemicidios |> arrange(desc(n))\n",
        "\n",
        "tablafemicidios"
      ],
      "metadata": {
        "id": "JcH92IkKRxDn"
      },
      "execution_count": null,
      "outputs": []
    },
    {
      "cell_type": "markdown",
      "source": [
        "### Filtrar con dplyr\n",
        "\n",
        "##### Con la función 'filter' de 'dplyr' filtramos el valor 's-d' de la columna 'hecho_provincia' "
      ],
      "metadata": {
        "id": "BbGrY4YyR4BI"
      }
    },
    {
      "cell_type": "code",
      "source": [
        "tablafemicidios <- tablafemicidios |> filter(hecho_provincia != 's-d')\n",
        "\n",
        "tablafemicidios"
      ],
      "metadata": {
        "id": "37QqNRaPScDx"
      },
      "execution_count": null,
      "outputs": []
    },
    {
      "cell_type": "markdown",
      "source": [
        "### Top\n",
        "\n",
        "##### Usamos la función top_n del paquete dplyr para quedarnos con los primeros cinco registros de la tabla"
      ],
      "metadata": {
        "id": "y6B81i_oSseY"
      }
    },
    {
      "cell_type": "code",
      "source": [
        "tablafemicidios |> top_n(5)"
      ],
      "metadata": {
        "id": "2XVmrS7NSs6I"
      },
      "execution_count": null,
      "outputs": []
    },
    {
      "cell_type": "markdown",
      "source": [
        "### Renombramos\n",
        "\n",
        "##### Renombramos las variables con la función rename del paquete dplyr"
      ],
      "metadata": {
        "id": "NqcvNdBnStYY"
      }
    },
    {
      "cell_type": "code",
      "source": [
        "tablafemicidios <- tablafemicidios |> rename(Provincias = hecho_provincia, Femicidios = n)\n",
        "\n",
        "tablafemicidios"
      ],
      "metadata": {
        "id": "Voku-2BzSt0I"
      },
      "execution_count": null,
      "outputs": []
    },
    {
      "cell_type": "markdown",
      "source": [
        "### Tablas con knitr\n",
        "\n",
        "##### Tuneamos la tabla con formattable, knitr y kableExtra"
      ],
      "metadata": {
        "id": "Kdxu92T7UCmZ"
      }
    },
    {
      "cell_type": "code",
      "source": [
        "# Instalamos y cargamos formattable, knitr y kableExtra\n",
        "\n",
        "install.packages(c('formattable','kableExtra'))\n",
        "install.packages('webshot')\n",
        "install.packages(\"png\")\n",
        "webshot::install_phantomjs()\n",
        "\n",
        "require(png)\n",
        "require(webshot)\n",
        "require(formattable)\n",
        "require(knitr)\n",
        "require(kableExtra)"
      ],
      "metadata": {
        "id": "jmzLlX9fUIuI"
      },
      "execution_count": null,
      "outputs": []
    },
    {
      "cell_type": "code",
      "source": [
        "# Con los paquetes formattable, knitr y kableExtra creamos una tabla con css bootstrap y gráfico de barras incluido\n",
        "\n",
        "head(tablafemicidios) %>% \n",
        "  mutate(\n",
        "    Provincias = Provincias,\n",
        "    Femicidios = color_bar(\"lightgreen\")(Femicidios)) %>%\n",
        "  select(Provincias, everything()) %>%\n",
        "  kable(escape = F,\n",
        "    caption = \"<center><span style='font-size:60px'>Femicidios en Argentina</span></center>\") %>%\n",
        "  kable_styling(\"hover\", full_width = F, font_size = 50) %>%\n",
        "  column_spec(1, width = \"20cm\") %>%\n",
        "  column_spec(2, width = \"20cm\") %>%\n",
        "  save_kable(\"tabla01.png\")"
      ],
      "metadata": {
        "id": "zIKzUJyLUrKJ"
      },
      "execution_count": null,
      "outputs": []
    },
    {
      "cell_type": "code",
      "source": [
        "options(repr.plot.width=11)\n",
        "img <- readPNG('tabla01.png')\n",
        "grid::grid.raster(img)"
      ],
      "metadata": {
        "id": "Ijznpml6ifyj"
      },
      "execution_count": null,
      "outputs": []
    },
    {
      "cell_type": "markdown",
      "source": [
        "## Ordenar y Clasificar (Parte 2)\n",
        "\n",
        "### Trabajar con tidyr\n",
        "\n",
        "##### Bajamos y cargamos los datos con las funciones 'download.file' y 'read.table' del paquete 'utils', paquete base de r"
      ],
      "metadata": {
        "id": "TcJ_92oFVOrI"
      }
    },
    {
      "cell_type": "code",
      "source": [
        "# Descarga datos población mundial\n",
        "\n",
        "url <- \"https://raw.githubusercontent.com/swcarpentry/r-novice-gapminder/gh-pages/_episodes_rmd/data/gapminder_wide.csv\"\n",
        "\n",
        "file <- file.path(\".\", basename(url))\n",
        "\n",
        "download.file(url, file)\n",
        "\n",
        "poblacion <- read.table(file, \n",
        "                        header = TRUE, \n",
        "                        sep = ',', \n",
        "                        stringsAsFactors = FALSE,\n",
        "                        encoding = \"UTF-8\")\n",
        "\n",
        "head(poblacion)"
      ],
      "metadata": {
        "id": "ZPoMiIi8mhEN"
      },
      "execution_count": null,
      "outputs": []
    },
    {
      "cell_type": "code",
      "source": [
        "# Vemos su estructura de datos\n",
        "\n",
        "utils::str(poblacion)"
      ],
      "metadata": {
        "id": "g3TA-70fpHR0"
      },
      "execution_count": null,
      "outputs": []
    },
    {
      "cell_type": "markdown",
      "source": [
        "### Transformamos la base a formato largo\n",
        "\n",
        "##### Transformamos la base de datos a formato largo con las funciones 'gather' del paquete tidyr."
      ],
      "metadata": {
        "id": "eJnvN-u3pPaL"
      }
    },
    {
      "cell_type": "code",
      "source": [
        "# Cargamos tidyr\n",
        "\n",
        "require(tidyr)\n",
        "\n",
        "poblacion_long <- poblacion %>% \n",
        "  gather(obs_anio,                 # nombramos la nueva columna para la nueva variable\n",
        "         valor,                    # nombre de la nueva variable con los valores de las viejas variables \n",
        "         -continent,               # (-) identificamos qué variables queremos excluir del proceso 'gather'\n",
        "         -country)                 # (-) identificamos qué variables queremos excluir del proceso 'gather'\n",
        "\n",
        "poblacion_long <- poblacion %>% \n",
        "    pivot_longer(c(-continent, -country), \n",
        "                 names_to = \"obs_anio\", \n",
        "                 values_to = \"valor\")\n",
        "\n",
        "head(poblacion_long)"
      ],
      "metadata": {
        "id": "StcmW2MIpURl"
      },
      "execution_count": null,
      "outputs": []
    },
    {
      "cell_type": "code",
      "source": [
        "# Vemos su estructura de datos\n",
        "\n",
        "utils::str(poblacion_long)"
      ],
      "metadata": {
        "id": "uoB25FaurgJl"
      },
      "execution_count": null,
      "outputs": []
    },
    {
      "cell_type": "markdown",
      "source": [
        "### Separar para crear nuevas columnas\n",
        "\n",
        "##### Separamos la observacion del año con la función separate del paquete tidyr"
      ],
      "metadata": {
        "id": "h1pyjVL1rkhV"
      }
    },
    {
      "cell_type": "code",
      "source": [
        "# Separamos la observacion del año\n",
        "gap_long <- \n",
        "    poblacion_long %>% \n",
        "    separate(obs_anio, \n",
        "             into = c(\"obs\", \"anio\"), \n",
        "             sep = \"_\") %>% \n",
        "    mutate(anio = as.integer(anio))\n",
        "\n",
        "head(gap_long)"
      ],
      "metadata": {
        "id": "hkRUjhFzrsId"
      },
      "execution_count": null,
      "outputs": []
    },
    {
      "cell_type": "code",
      "source": [
        "# Vemos su estructura de datos\n",
        "\n",
        "utils::str(gap_long)"
      ],
      "metadata": {
        "id": "HRiNy-w7sOYV"
      },
      "execution_count": null,
      "outputs": []
    },
    {
      "cell_type": "markdown",
      "source": [
        "### Separamos para darle la estrcutura deseada\n",
        "\n",
        "##### Usamos la función spread del paquete tidyr"
      ],
      "metadata": {
        "id": "CxuWTQC1sW1G"
      }
    },
    {
      "cell_type": "code",
      "source": [
        "gap_normal <- gap_long %>% spread(obs, valor)\n",
        "\n",
        "gap_normal <- gap_long %>% pivot_wider(names_from = obs, values_from = valor)\n",
        "\n",
        "head(gap_normal)"
      ],
      "metadata": {
        "id": "HTs-OQbgse_-"
      },
      "execution_count": null,
      "outputs": []
    },
    {
      "cell_type": "code",
      "source": [
        "# Vemos su estructura de datos\n",
        "\n",
        "utils::str(gap_normal)"
      ],
      "metadata": {
        "id": "L46nwWk_uKDG"
      },
      "execution_count": null,
      "outputs": []
    },
    {
      "cell_type": "markdown",
      "source": [
        "### Algo de tablas para visualización y consultas... "
      ],
      "metadata": {
        "id": "48CaJT0quP8m"
      }
    },
    {
      "cell_type": "code",
      "source": [
        "install.packages(c('DT','gapminder'))\n",
        "require(gapminder)\n",
        "require(DT)"
      ],
      "metadata": {
        "id": "SRgLpYH_uwO1"
      },
      "execution_count": null,
      "outputs": []
    },
    {
      "cell_type": "code",
      "source": [
        "data(\"gapminder\")\n",
        "tabla02 <- datatable(gapminder)\n",
        "html <- \"tabla02.html\"\n",
        "saveWidget(tabla02, html)"
      ],
      "metadata": {
        "id": "v3AnztG9ukZu"
      },
      "execution_count": null,
      "outputs": []
    },
    {
      "cell_type": "markdown",
      "source": [
        "### EPH: Encuesta Permanante de Hogares\n",
        "\n",
        "El paquete 'eph' en un conjunto de herramientas para descargar y manipular la Encuesta Permanente de Hogares de Argentina. Podemos descargar los conjuntos de datos, descargar los datos sobre pobreza, podemos calcular si un hogar es pobre o no, siguiendo la metodología oficial. Los métodos implementados se basan en INDEC (2016).\n",
        "\n",
        "### Vamos a ver cómo trabajar con el paquete 'eph'"
      ],
      "metadata": {
        "id": "UAR2qQyBxKHl"
      }
    },
    {
      "cell_type": "code",
      "source": [
        "install.packages('eph')"
      ],
      "metadata": {
        "id": "2tNGSyMExSN3"
      },
      "execution_count": null,
      "outputs": []
    },
    {
      "cell_type": "code",
      "source": [
        "require(eph)"
      ],
      "metadata": {
        "id": "6YvB5B0My-jj"
      },
      "execution_count": null,
      "outputs": []
    },
    {
      "cell_type": "code",
      "source": [
        "print('Base de datos EPH - Primer trimestre de 2020')\n",
        "\n",
        "# Obtenemos la base de microdatos de individuos \n",
        "# para el primer trimestre de 2020:\n",
        "\n",
        "(ind_01_20 <-           # nombre del objeto a crear\n",
        "  get_microdata(        # función para cargar los datos de la eph\n",
        "    year = 2020,        # año\n",
        "    trimester = 1,      # trimestre\n",
        "    type = 'individual' # tipo: 'individual' / 'hogar'\n",
        "    )) |> head()"
      ],
      "metadata": {
        "id": "ppYvbpyVxXc3"
      },
      "execution_count": null,
      "outputs": []
    },
    {
      "cell_type": "markdown",
      "source": [
        "### Veamos que consultas podemos hacer"
      ],
      "metadata": {
        "id": "wdxdskI3xsmc"
      }
    },
    {
      "cell_type": "code",
      "source": [
        "print('Diccionario aglomerados')\n",
        "\n",
        "eph::diccionario_aglomerados |> head()\n",
        "\n",
        "print('Filtramos para MdP')\n",
        "\n",
        "(mdp_ind_01_20 <- \n",
        "  ind_01_20 %>% filter(AGLOMERADO == '34') %>%\n",
        "  organize_labels(., type='individual')) |> head()\n",
        "\n",
        "print('Armamos la tabla de condición de ocupación según sexo')\n",
        "\n",
        "(tabla <- \n",
        "  mdp_ind_01_20 %>% \n",
        "  calculate_tabulates(x='ESTADO', \n",
        "                      y='CH04',\n",
        "                      weights = 'PONDIH', \n",
        "                      add.totals='row', \n",
        "                      add.percentage='col')) |> head()"
      ],
      "metadata": {
        "id": "ZulCIQHuxw5U"
      },
      "execution_count": null,
      "outputs": []
    },
    {
      "cell_type": "markdown",
      "source": [
        "### Mejoremos el resultado obtenido"
      ],
      "metadata": {
        "id": "03U6oly7yDbv"
      }
    },
    {
      "cell_type": "code",
      "source": [
        "print(\"Tabla 3\")\n",
        "\n",
        "(Tabla_Ocu1 <- \n",
        "    calculate_tabulates(\n",
        "      base=mdp_ind_01_20, \n",
        "      x = 'ESTADO', \n",
        "      y = 'CH04', \n",
        "      weights = 'PONDIH',\n",
        "      add.totals = 'row', \n",
        "      add.percentage = 'col') %>% \n",
        "    data.frame() %>% \n",
        "    as_tibble() %>% \n",
        "    rename(Condicion = ESTADO.CH04) %>% \n",
        "    filter(!stringr::str_detect\n",
        "           (Condicion,\n",
        "             \"Entrevista\")) %>%\n",
        "    rename(Varon_P = Varon) %>%\n",
        "    rename(Mujer_P = Mujer) %>%\n",
        "    mutate(Condicion = case_when(\n",
        "      Condicion == \"Ocupado\" ~ \"Ocupadx\",\n",
        "      Condicion == \"Desocupado\" ~ \"Desocupadx\",\n",
        "      Condicion == \"Inactivo\" ~ \"Inactivx\",\n",
        "      Condicion == \"Menor de 10 anios.\" ~ \"< 10 años\",\n",
        "      TRUE ~ as.character(Condicion)\n",
        "    )))\n",
        "\n",
        "\n",
        "\n",
        "print(\"Tabla 2\")\n",
        "\n",
        "(Tabla_Ocu2 <- \n",
        "    calculate_tabulates(\n",
        "      base = mdp_ind_01_20,\n",
        "      x = 'ESTADO', \n",
        "      y = 'CH04', \n",
        "      weights = 'PONDIH',\n",
        "      add.totals = 'row') %>% \n",
        "    data.frame() %>% \n",
        "    as_tibble() %>% \n",
        "    rename(Condicion = ESTADO.CH04) %>% \n",
        "    rename(Varon_N = Varon) %>%\n",
        "    rename(Mujer_N = Mujer) %>%\n",
        "    filter(!stringr::str_detect(\n",
        "      Condicion,\n",
        "      \"Entrevista\")) %>% \n",
        "    mutate(Condicion = case_when(\n",
        "      Condicion == \"Ocupado\" ~ \"Ocupadx\",\n",
        "      Condicion == \"Desocupado\" ~ \"Desocupadx\",\n",
        "      Condicion == \"Inactivo\" ~ \"Inactivx\",\n",
        "      Condicion == \"Menor de 10 anios.\" ~ \"< 10 años\",\n",
        "      TRUE ~ as.character(Condicion)\n",
        "    )))\n",
        "\n",
        "print(\"Tabla Unificada\")\n",
        "\n",
        "(Tabla_unificada <- \n",
        "  full_join(\n",
        "    Tabla_Ocu2, \n",
        "    Tabla_Ocu1, \n",
        "    by = \"Condicion\"))"
      ],
      "metadata": {
        "id": "x91GvtfNyRYq"
      },
      "execution_count": null,
      "outputs": []
    }
  ]
}